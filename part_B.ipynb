{
  "nbformat": 4,
  "nbformat_minor": 0,
  "metadata": {
    "colab": {
      "provenance": []
    },
    "kernelspec": {
      "name": "python3",
      "display_name": "Python 3"
    },
    "language_info": {
      "name": "python"
    }
  },
  "cells": [
    {
      "cell_type": "code",
      "source": [
        "!pip install nltk scikit-learn pandas matplotlib\n"
      ],
      "metadata": {
        "colab": {
          "base_uri": "https://localhost:8080/"
        },
        "id": "O7rnSML3b5hD",
        "outputId": "7e025ab3-1bda-4d0f-fe78-c25c93a0bd2a"
      },
      "execution_count": 12,
      "outputs": [
        {
          "output_type": "stream",
          "name": "stdout",
          "text": [
            "Requirement already satisfied: nltk in /usr/local/lib/python3.11/dist-packages (3.9.1)\n",
            "Requirement already satisfied: scikit-learn in /usr/local/lib/python3.11/dist-packages (1.6.1)\n",
            "Requirement already satisfied: pandas in /usr/local/lib/python3.11/dist-packages (2.2.2)\n",
            "Requirement already satisfied: matplotlib in /usr/local/lib/python3.11/dist-packages (3.10.0)\n",
            "Requirement already satisfied: click in /usr/local/lib/python3.11/dist-packages (from nltk) (8.1.8)\n",
            "Requirement already satisfied: joblib in /usr/local/lib/python3.11/dist-packages (from nltk) (1.4.2)\n",
            "Requirement already satisfied: regex>=2021.8.3 in /usr/local/lib/python3.11/dist-packages (from nltk) (2024.11.6)\n",
            "Requirement already satisfied: tqdm in /usr/local/lib/python3.11/dist-packages (from nltk) (4.67.1)\n",
            "Requirement already satisfied: numpy>=1.19.5 in /usr/local/lib/python3.11/dist-packages (from scikit-learn) (1.26.4)\n",
            "Requirement already satisfied: scipy>=1.6.0 in /usr/local/lib/python3.11/dist-packages (from scikit-learn) (1.13.1)\n",
            "Requirement already satisfied: threadpoolctl>=3.1.0 in /usr/local/lib/python3.11/dist-packages (from scikit-learn) (3.5.0)\n",
            "Requirement already satisfied: python-dateutil>=2.8.2 in /usr/local/lib/python3.11/dist-packages (from pandas) (2.8.2)\n",
            "Requirement already satisfied: pytz>=2020.1 in /usr/local/lib/python3.11/dist-packages (from pandas) (2025.1)\n",
            "Requirement already satisfied: tzdata>=2022.7 in /usr/local/lib/python3.11/dist-packages (from pandas) (2025.1)\n",
            "Requirement already satisfied: contourpy>=1.0.1 in /usr/local/lib/python3.11/dist-packages (from matplotlib) (1.3.1)\n",
            "Requirement already satisfied: cycler>=0.10 in /usr/local/lib/python3.11/dist-packages (from matplotlib) (0.12.1)\n",
            "Requirement already satisfied: fonttools>=4.22.0 in /usr/local/lib/python3.11/dist-packages (from matplotlib) (4.55.8)\n",
            "Requirement already satisfied: kiwisolver>=1.3.1 in /usr/local/lib/python3.11/dist-packages (from matplotlib) (1.4.8)\n",
            "Requirement already satisfied: packaging>=20.0 in /usr/local/lib/python3.11/dist-packages (from matplotlib) (24.2)\n",
            "Requirement already satisfied: pillow>=8 in /usr/local/lib/python3.11/dist-packages (from matplotlib) (11.1.0)\n",
            "Requirement already satisfied: pyparsing>=2.3.1 in /usr/local/lib/python3.11/dist-packages (from matplotlib) (3.2.1)\n",
            "Requirement already satisfied: six>=1.5 in /usr/local/lib/python3.11/dist-packages (from python-dateutil>=2.8.2->pandas) (1.17.0)\n"
          ]
        }
      ]
    },
    {
      "cell_type": "code",
      "source": [
        "import nltk\n",
        "import pandas as pd\n",
        "import matplotlib.pyplot as plt\n",
        "from sklearn.model_selection import train_test_split\n",
        "from sklearn.feature_extraction.text import TfidfVectorizer\n",
        "from sklearn.metrics import classification_report, accuracy_score, confusion_matrix\n",
        "from sklearn.linear_model import LogisticRegression\n",
        "from sklearn.naive_bayes import MultinomialNB\n",
        "from sklearn.svm import SVC\n",
        "import seaborn as sns\n",
        "\n",
        "# Download required NLTK data\n",
        "nltk.download('stopwords')\n",
        "nltk.download('punkt')\n",
        "from nltk.corpus import stopwords\n",
        "from nltk.tokenize import word_tokenize\n",
        "\n",
        "print(\"✅ Libraries imported successfully!\")\n"
      ],
      "metadata": {
        "colab": {
          "base_uri": "https://localhost:8080/"
        },
        "id": "2AaXZ6Zvb9OE",
        "outputId": "2285ff98-b767-4aab-9e12-7b85327489f2"
      },
      "execution_count": 13,
      "outputs": [
        {
          "output_type": "stream",
          "name": "stdout",
          "text": [
            "✅ Libraries imported successfully!\n"
          ]
        },
        {
          "output_type": "stream",
          "name": "stderr",
          "text": [
            "[nltk_data] Downloading package stopwords to /root/nltk_data...\n",
            "[nltk_data]   Package stopwords is already up-to-date!\n",
            "[nltk_data] Downloading package punkt to /root/nltk_data...\n",
            "[nltk_data]   Package punkt is already up-to-date!\n"
          ]
        }
      ]
    },
    {
      "cell_type": "code",
      "source": [
        "# Load the dataset from NLTK's movie reviews\n",
        "from nltk.corpus import movie_reviews\n",
        "\n",
        "# Create a DataFrame from the NLTK dataset\n",
        "documents = [(list(movie_reviews.words(fileid)), category)\n",
        "             for category in movie_reviews.categories()\n",
        "             for fileid in movie_reviews.fileids(category)]\n",
        "\n",
        "df = pd.DataFrame(documents, columns=[\"review\", \"label\"])\n",
        "\n",
        "# Check the first few rows of the dataset\n",
        "print(f\"📌 Dataset Sample:\\n{df.head()}\")\n",
        "print(f\"\\n📌 Dataset Shape: {df.shape}\")\n",
        "print(f\"📌 Label Distribution:\\n{df['label'].value_counts()}\")\n",
        "\n",
        "# Plot label distribution\n",
        "sns.countplot(data=df, x=\"label\")\n",
        "plt.title(\"Label Distribution\")\n",
        "plt.xlabel(\"Sentiment\")\n",
        "plt.ylabel(\"Count\")\n",
        "plt.show()\n"
      ],
      "metadata": {
        "colab": {
          "base_uri": "https://localhost:8080/",
          "height": 722
        },
        "id": "huhFRwdScIxf",
        "outputId": "fc98b3b6-5d81-451d-ced0-88d66fd3f441"
      },
      "execution_count": 14,
      "outputs": [
        {
          "output_type": "stream",
          "name": "stdout",
          "text": [
            "📌 Dataset Sample:\n",
            "                                              review label\n",
            "0  [plot, :, two, teen, couples, go, to, a, churc...   neg\n",
            "1  [the, happy, bastard, ', s, quick, movie, revi...   neg\n",
            "2  [it, is, movies, like, these, that, make, a, j...   neg\n",
            "3  [\", quest, for, camelot, \", is, warner, bros, ...   neg\n",
            "4  [synopsis, :, a, mentally, unstable, man, unde...   neg\n",
            "\n",
            "📌 Dataset Shape: (2000, 2)\n",
            "📌 Label Distribution:\n",
            "label\n",
            "neg    1000\n",
            "pos    1000\n",
            "Name: count, dtype: int64\n"
          ]
        },
        {
          "output_type": "display_data",
          "data": {
            "text/plain": [
              "<Figure size 640x480 with 1 Axes>"
            ],
            "image/png": "[encoded data removed]"
          },
          "metadata": {}
        }
      ]
    },
    {
      "cell_type": "code",
      "source": [
        "import string\n",
        "from nltk.corpus import stopwords\n",
        "from nltk.tokenize import word_tokenize\n",
        "\n",
        "# Define a function to preprocess the text\n",
        "def preprocess_text(text):\n",
        "    text = text.lower()  # Convert to lowercase\n",
        "    text = text.translate(str.maketrans(\"\", \"\", string.punctuation))  # Remove punctuation\n",
        "    words = word_tokenize(text)  # Tokenize the text\n",
        "    words = [word for word in words if word not in stopwords.words('english')]  # Remove stopwords\n",
        "    return \" \".join(words)\n",
        "\n",
        "# Apply preprocessing to the reviews\n",
        "df[\"cleaned_review\"] = df[\"review\"].apply(lambda review: preprocess_text(\" \".join(review)))\n",
        "\n",
        "# Display a sample cleaned review\n",
        "print(f\"📌 Sample Cleaned Review:\\n{df['cleaned_review'][0][:300]}...\")  # Show first 300 characters\n"
      ],
      "metadata": {
        "colab": {
          "base_uri": "https://localhost:8080/"
        },
        "id": "GQSQCzYfcU1F",
        "outputId": "f51b64b0-f450-4289-b637-09a67e1146cb"
      },
      "execution_count": 15,
      "outputs": [
        {
          "output_type": "stream",
          "name": "stdout",
          "text": [
            "📌 Sample Cleaned Review:\n",
            "plot two teen couples go church party drink drive get accident one guys dies girlfriend continues see life nightmares deal watch movie sorta find critique mind fuck movie teen generation touches cool idea presents bad package makes review even harder one write since generally applaud films attempt b...\n"
          ]
        }
      ]
    },
    {
      "cell_type": "code",
      "source": [
        "from sklearn.feature_extraction.text import TfidfVectorizer\n",
        "\n",
        "# Initialize TF-IDF Vectorizer\n",
        "tfidf_vectorizer = TfidfVectorizer(max_features=5000)  # Limit to top 5000 words\n",
        "\n",
        "# Transform the cleaned reviews into TF-IDF features\n",
        "X = tfidf_vectorizer.fit_transform(df[\"cleaned_review\"]).toarray()\n",
        "y = df[\"label\"].apply(lambda label: 1 if label == \"pos\" else 0)  # Convert labels to binary (1: positive, 0: negative)\n",
        "\n",
        "# Print the shape of the TF-IDF matrix\n",
        "print(f\"📌 TF-IDF Feature Matrix Shape: {X.shape}\")\n",
        "print(f\"📌 First 5 TF-IDF Features: {tfidf_vectorizer.get_feature_names_out()[:5]}\")\n"
      ],
      "metadata": {
        "colab": {
          "base_uri": "https://localhost:8080/"
        },
        "id": "Ifx4A6DEcdgU",
        "outputId": "af50f828-6316-4be9-f69a-de196e8c76d8"
      },
      "execution_count": 16,
      "outputs": [
        {
          "output_type": "stream",
          "name": "stdout",
          "text": [
            "📌 TF-IDF Feature Matrix Shape: (2000, 5000)\n",
            "📌 First 5 TF-IDF Features: ['000' '10' '100' '11' '12']\n"
          ]
        }
      ]
    },
    {
      "cell_type": "code",
      "source": [
        "from sklearn.model_selection import train_test_split\n",
        "\n",
        "# Split the data into training (80%) and testing (20%) sets\n",
        "X_train, X_test, y_train, y_test = train_test_split(X, y, test_size=0.2, random_state=42)\n",
        "\n",
        "# Display the shapes of the training and testing sets\n",
        "print(f\"📌 Training Set Shape: {X_train.shape}\")\n",
        "print(f\"📌 Testing Set Shape: {X_test.shape}\")\n"
      ],
      "metadata": {
        "colab": {
          "base_uri": "https://localhost:8080/"
        },
        "id": "TtcuVw7adBHB",
        "outputId": "bd353f98-2b13-4883-d0f0-c74db0831f6a"
      },
      "execution_count": 17,
      "outputs": [
        {
          "output_type": "stream",
          "name": "stdout",
          "text": [
            "📌 Training Set Shape: (1600, 5000)\n",
            "📌 Testing Set Shape: (400, 5000)\n"
          ]
        }
      ]
    },
    {
      "cell_type": "code",
      "source": [
        "from sklearn.linear_model import LogisticRegression\n",
        "from sklearn.metrics import accuracy_score, precision_score, recall_score, classification_report\n",
        "\n",
        "# Train the Logistic Regression model\n",
        "logreg = LogisticRegression(max_iter=200, random_state=42)\n",
        "logreg.fit(X_train, y_train)\n",
        "\n",
        "# Make predictions on the test set\n",
        "y_pred = logreg.predict(X_test)\n",
        "\n",
        "# Evaluate the model\n",
        "accuracy = accuracy_score(y_test, y_pred)\n",
        "precision = precision_score(y_test, y_pred, pos_label=1)  # Adjusted pos_label to 1\n",
        "recall = recall_score(y_test, y_pred, pos_label=1)        # Adjusted pos_label to 1\n",
        "\n",
        "# Display the results\n",
        "print(f\"📌 Accuracy: {accuracy:.2f}\")\n",
        "print(f\"📌 Precision (Positive): {precision:.2f}\")\n",
        "print(f\"📌 Recall (Positive): {recall:.2f}\")\n",
        "\n",
        "# Detailed Classification Report\n",
        "print(\"\\n📌 Classification Report:\")\n",
        "print(classification_report(y_test, y_pred, target_names=['Negative', 'Positive']))\n"
      ],
      "metadata": {
        "colab": {
          "base_uri": "https://localhost:8080/"
        },
        "id": "KCfFFf2YdcIV",
        "outputId": "a63429d1-88f0-438e-d584-33f3a1297eb2"
      },
      "execution_count": 19,
      "outputs": [
        {
          "output_type": "stream",
          "name": "stdout",
          "text": [
            "📌 Accuracy: 0.82\n",
            "📌 Precision (Positive): 0.83\n",
            "📌 Recall (Positive): 0.83\n",
            "\n",
            "📌 Classification Report:\n",
            "              precision    recall  f1-score   support\n",
            "\n",
            "    Negative       0.82      0.82      0.82       199\n",
            "    Positive       0.83      0.83      0.83       201\n",
            "\n",
            "    accuracy                           0.82       400\n",
            "   macro avg       0.82      0.82      0.82       400\n",
            "weighted avg       0.82      0.82      0.82       400\n",
            "\n"
          ]
        }
      ]
    },
    {
      "cell_type": "code",
      "source": [
        "import matplotlib.pyplot as plt\n",
        "\n",
        "# Evaluation metrics\n",
        "metrics = ['Accuracy', 'Precision (Positive)', 'Recall (Positive)', 'F1-Score (Positive)']\n",
        "values = [0.82, 0.83, 0.83, 0.83]\n",
        "\n",
        "# Create a bar chart\n",
        "plt.figure(figsize=(8, 5))\n",
        "plt.bar(metrics, values, width=0.6)\n",
        "plt.ylim(0.7, 1.0)\n",
        "plt.title(\"Model Evaluation Metrics\", fontsize=16)\n",
        "plt.ylabel(\"Scores\", fontsize=14)\n",
        "plt.xlabel(\"Metrics\", fontsize=14)\n",
        "plt.xticks(fontsize=12)\n",
        "plt.yticks(fontsize=12)\n",
        "\n",
        "# Display the values on top of each bar\n",
        "for i, v in enumerate(values):\n",
        "    plt.text(i, v + 0.01, f\"{v:.2f}\", ha='center', fontsize=12)\n",
        "\n",
        "plt.show()\n"
      ],
      "metadata": {
        "colab": {
          "base_uri": "https://localhost:8080/",
          "height": 498
        },
        "id": "joo65ss1dkFE",
        "outputId": "a4f7929f-2c5f-410a-f113-1f15d052d982"
      },
      "execution_count": 20,
      "outputs": [
        {
          "output_type": "display_data",
          "data": {
            "text/plain": [
              "<Figure size 800x500 with 1 Axes>"
            ],
            "image/png": "[encoded data removed]"
          },
          "metadata": {}
        }
      ]
    },
    {
      "cell_type": "code",
      "source": [],
      "metadata": {
        "id": "_HE2NguQePXM"
      },
      "execution_count": null,
      "outputs": []
    }
  ]
}